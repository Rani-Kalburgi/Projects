{
 "cells": [
  {
   "cell_type": "code",
   "execution_count": 2,
   "id": "80b926c0",
   "metadata": {},
   "outputs": [
    {
     "name": "stdout",
     "output_type": "stream",
     "text": [
      "Enter the operation (add,subtract,multiply,divide):multiply\n",
      "Enter the first number:5\n",
      "Enter the second number:5\n",
      "Result:25.0\n"
     ]
    }
   ],
   "source": [
    "def calculate(operation, x, y):\n",
    "    if operation == 'add':\n",
    "        return x + y\n",
    "    elif operation == 'subtract':\n",
    "        return x - y\n",
    "    elif operation == 'multiply':\n",
    "        return x * y\n",
    "    elif operation == 'divide':\n",
    "        if y == 0:\n",
    "            return \"Error! Division by zero.\"\n",
    "        else:\n",
    "            return x / y\n",
    "    else:\n",
    "        return \"Invalid operation\"\n",
    "    \n",
    "operation = input(\"Enter the operation (add,subtract,multiply,divide):\")\n",
    "x = float(input(\"Enter the first number:\"))\n",
    "y = float(input(\"Enter the second number:\"))\n",
    "\n",
    "result = calculate(operation, x, y)\n",
    "print(f\"Result:{result}\")"
   ]
  },
  {
   "cell_type": "code",
   "execution_count": 1,
   "id": "869b1d17",
   "metadata": {},
   "outputs": [
    {
     "name": "stdout",
     "output_type": "stream",
     "text": [
      "Enter the first number: 4\n",
      "Enter the second number: 6\n",
      "Enter the operation (+, -, *, /): /\n",
      "Result: 0.6666666666666666\n"
     ]
    }
   ],
   "source": [
    "def calculator():\n",
    "\n",
    "    num1 = float(input(\"Enter the first number: \"))\n",
    "    num2 = float(input(\"Enter the second number: \"))\n",
    "    operation = input(\"Enter the operation (+, -, *, /): \")\n",
    "\n",
    "   \n",
    "    if operation == '+':\n",
    "        result = num1 + num2\n",
    "    elif operation == '-':\n",
    "        result = num1 - num2\n",
    "    elif operation == '*':\n",
    "        result = num1 * num2\n",
    "    elif operation == '/':\n",
    "        if num2 != 0:  \n",
    "            result = num1 / num2\n",
    "        else:\n",
    "            print(\"Error! Division by zero\")\n",
    "            return \n",
    "    else:\n",
    "        print(\"Invalid operation\")\n",
    "        return \n",
    "    print(\"Result:\", result)\n",
    "\n",
    "calculator()\n"
   ]
  },
  {
   "cell_type": "code",
   "execution_count": null,
   "id": "bdc2c0c6",
   "metadata": {},
   "outputs": [],
   "source": []
  },
  {
   "cell_type": "code",
   "execution_count": null,
   "id": "5af9a217",
   "metadata": {},
   "outputs": [],
   "source": []
  }
 ],
 "metadata": {
  "kernelspec": {
   "display_name": "Python 3 (ipykernel)",
   "language": "python",
   "name": "python3"
  },
  "language_info": {
   "codemirror_mode": {
    "name": "ipython",
    "version": 3
   },
   "file_extension": ".py",
   "mimetype": "text/x-python",
   "name": "python",
   "nbconvert_exporter": "python",
   "pygments_lexer": "ipython3",
   "version": "3.11.5"
  }
 },
 "nbformat": 4,
 "nbformat_minor": 5
}
